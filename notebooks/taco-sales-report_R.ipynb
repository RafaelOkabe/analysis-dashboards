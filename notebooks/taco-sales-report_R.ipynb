{
 "cells": [
  {
   "cell_type": "markdown",
   "id": "e47cbcee",
   "metadata": {},
   "source": [
    "# Data Exploration & Insights — Taco Sales Analysis with R"
   ]
  }
 ],
 "metadata": {
  "kernelspec": {
   "display_name": "R",
   "language": "R",
   "name": "ir"
  },
  "language_info": {
   "codemirror_mode": "r",
   "file_extension": ".r",
   "mimetype": "text/x-r-source",
   "name": "R",
   "pygments_lexer": "r",
   "version": "4.5.0"
  }
 },
 "nbformat": 4,
 "nbformat_minor": 5
}
