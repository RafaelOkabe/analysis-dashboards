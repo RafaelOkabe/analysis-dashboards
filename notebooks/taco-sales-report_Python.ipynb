{
 "cells": [
  {
   "cell_type": "markdown",
   "id": "e47cbcee",
   "metadata": {},
   "source": [
    "# Data Exploration & Insights — Taco Sales Analysis with Python"
   ]
  },
  {
   "cell_type": "code",
   "execution_count": null,
   "id": "d153401e",
   "metadata": {},
   "outputs": [],
   "source": []
  }
 ],
 "metadata": {
  "kernelspec": {
   "display_name": "Python 3",
   "language": "python",
   "name": "python3"
  },
  "language_info": {
   "name": "python",
   "version": "3.11.9"
  }
 },
 "nbformat": 4,
 "nbformat_minor": 5
}
